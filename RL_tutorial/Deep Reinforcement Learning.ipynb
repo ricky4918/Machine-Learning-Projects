{
 "cells": [
  {
   "cell_type": "code",
   "execution_count": 5,
   "id": "12d7fc3b",
   "metadata": {},
   "outputs": [],
   "source": [
    "import gym\n",
    "import random\n",
    "import numpy as np\n",
    "from tensorflow.keras.models import Sequential\n",
    "from tensorflow.keras.layers import Dense, Flatten\n",
    "from tensorflow.keras.optimizers import Adam\n",
    "from rl.agents import DQNAgent\n",
    "from rl.policy import BoltzmannQPolicy\n",
    "from rl.memory import SequentialMemory"
   ]
  },
  {
   "cell_type": "code",
   "execution_count": 6,
   "id": "02a25aae",
   "metadata": {},
   "outputs": [],
   "source": [
    "env = gym.make('CartPole-v1')\n",
    "states = env.observation_space.shape[0]\n",
    "actions = env.action_space.n"
   ]
  },
  {
   "cell_type": "code",
   "execution_count": 7,
   "id": "51fa4692",
   "metadata": {},
   "outputs": [],
   "source": [
    "# episodes = 10\n",
    "# for episode in range(1, episodes+1):\n",
    "#     state = env.reset()\n",
    "#     done = False\n",
    "#     score = 0\n",
    "    \n",
    "#     while not done:\n",
    "#         env.render()\n",
    "#         action = random.choice([0,1])\n",
    "#         n_state, reward, done, info = env.step(action)\n",
    "#         score += reward\n",
    "#     print('Episode:{} Score:{}'.format(episode, score))"
   ]
  },
  {
   "cell_type": "markdown",
   "id": "b49b23df",
   "metadata": {},
   "source": [
    "# Create a Depp Learning Model with Keras"
   ]
  },
  {
   "cell_type": "code",
   "execution_count": 8,
   "id": "d15d32f7",
   "metadata": {},
   "outputs": [],
   "source": [
    "def build_model(states, actions):\n",
    "    model = Sequential()\n",
    "    model.add(Flatten(input_shape=(1,states)))\n",
    "    model.add(Dense(24, activation='relu'))\n",
    "    model.add(Dense(24, activation='relu'))\n",
    "    model.add(Dense(actions, activation='linear'))\n",
    "    return model"
   ]
  },
  {
   "cell_type": "code",
   "execution_count": 9,
   "id": "2a4a9ed8",
   "metadata": {},
   "outputs": [],
   "source": [
    "model = build_model(states,actions)"
   ]
  },
  {
   "cell_type": "code",
   "execution_count": 10,
   "id": "21fba927",
   "metadata": {},
   "outputs": [
    {
     "name": "stdout",
     "output_type": "stream",
     "text": [
      "Model: \"sequential\"\n",
      "_________________________________________________________________\n",
      " Layer (type)                Output Shape              Param #   \n",
      "=================================================================\n",
      " flatten (Flatten)           (None, 4)                 0         \n",
      "                                                                 \n",
      " dense (Dense)               (None, 24)                120       \n",
      "                                                                 \n",
      " dense_1 (Dense)             (None, 24)                600       \n",
      "                                                                 \n",
      " dense_2 (Dense)             (None, 2)                 50        \n",
      "                                                                 \n",
      "=================================================================\n",
      "Total params: 770\n",
      "Trainable params: 770\n",
      "Non-trainable params: 0\n",
      "_________________________________________________________________\n"
     ]
    }
   ],
   "source": [
    "model.summary()"
   ]
  },
  {
   "cell_type": "code",
   "execution_count": 11,
   "id": "875a8df1",
   "metadata": {},
   "outputs": [],
   "source": [
    "def build_agent(model, actions):\n",
    "    policy = BoltzmannQPolicy()\n",
    "    memory = SequentialMemory(limit=50000, window_length=1)\n",
    "    dqn = DQNAgent(model=model, memory=memory, policy=policy, \n",
    "                  nb_actions=actions, nb_steps_warmup=10, target_model_update=1e-2)\n",
    "    return dqn"
   ]
  },
  {
   "cell_type": "code",
   "execution_count": 12,
   "id": "c2bc4d89",
   "metadata": {},
   "outputs": [
    {
     "name": "stderr",
     "output_type": "stream",
     "text": [
      "C:\\Users\\Seedevice\\Anaconda3\\lib\\site-packages\\keras\\optimizers\\optimizer_v2\\adam.py:110: UserWarning: The `lr` argument is deprecated, use `learning_rate` instead.\n",
      "  super(Adam, self).__init__(name, **kwargs)\n"
     ]
    },
    {
     "name": "stdout",
     "output_type": "stream",
     "text": [
      "Training for 50000 steps ...\n",
      "Interval 1 (0 steps performed)\n",
      "\r",
      "    1/10000 [..............................] - ETA: 10:50 - reward: 1.0000"
     ]
    },
    {
     "name": "stderr",
     "output_type": "stream",
     "text": [
      "C:\\Users\\Seedevice\\Anaconda3\\lib\\site-packages\\keras\\engine\\training_v1.py:2067: UserWarning: `Model.state_updates` will be removed in a future version. This property should not be used in TensorFlow 2.0, as `updates` are applied automatically.\n",
      "  updates=self.state_updates,\n",
      "C:\\Users\\Seedevice\\Anaconda3\\lib\\site-packages\\rl\\memory.py:37: UserWarning: Not enough entries to sample without replacement. Consider increasing your warm-up phase to avoid oversampling!\n",
      "  warnings.warn('Not enough entries to sample without replacement. Consider increasing your warm-up phase to avoid oversampling!')\n"
     ]
    },
    {
     "name": "stdout",
     "output_type": "stream",
     "text": [
      "10000/10000 [==============================] - 60s 6ms/step - reward: 1.0000\n",
      "92 episodes - episode_reward: 107.174 [9.000, 358.000] - loss: 2.527 - mae: 19.582 - mean_q: 39.752\n",
      "\n",
      "Interval 2 (10000 steps performed)\n",
      "10000/10000 [==============================] - 65s 6ms/step - reward: 1.0000\n",
      "36 episodes - episode_reward: 277.611 [200.000, 500.000] - loss: 4.290 - mae: 43.045 - mean_q: 87.135\n",
      "\n",
      "Interval 3 (20000 steps performed)\n",
      "10000/10000 [==============================] - 63s 6ms/step - reward: 1.0000\n",
      "35 episodes - episode_reward: 289.829 [216.000, 477.000] - loss: 3.342 - mae: 48.567 - mean_q: 97.884\n",
      "\n",
      "Interval 4 (30000 steps performed)\n",
      "10000/10000 [==============================] - 55s 6ms/step - reward: 1.0000\n",
      "34 episodes - episode_reward: 286.235 [214.000, 422.000] - loss: 2.244 - mae: 47.976 - mean_q: 96.582\n",
      "\n",
      "Interval 5 (40000 steps performed)\n",
      "10000/10000 [==============================] - 61s 6ms/step - reward: 1.0000\n",
      "done, took 303.417 seconds\n"
     ]
    },
    {
     "data": {
      "text/plain": [
       "<keras.callbacks.History at 0x17f6010b040>"
      ]
     },
     "execution_count": 12,
     "metadata": {},
     "output_type": "execute_result"
    }
   ],
   "source": [
    "dqn = build_agent(model, actions)\n",
    "dqn.compile(Adam(lr=1e-3), metrics=['mae'])\n",
    "dqn.fit(env, nb_steps=50000, visualize=False, verbose=1)"
   ]
  },
  {
   "cell_type": "code",
   "execution_count": 13,
   "id": "991fb9f2",
   "metadata": {},
   "outputs": [
    {
     "name": "stdout",
     "output_type": "stream",
     "text": [
      "Testing for 100 episodes ...\n",
      "Episode 1: reward: 363.000, steps: 363\n",
      "Episode 2: reward: 470.000, steps: 470\n",
      "Episode 3: reward: 374.000, steps: 374\n",
      "Episode 4: reward: 431.000, steps: 431\n",
      "Episode 5: reward: 381.000, steps: 381\n",
      "Episode 6: reward: 288.000, steps: 288\n",
      "Episode 7: reward: 420.000, steps: 420\n",
      "Episode 8: reward: 363.000, steps: 363\n",
      "Episode 9: reward: 394.000, steps: 394\n",
      "Episode 10: reward: 325.000, steps: 325\n",
      "Episode 11: reward: 350.000, steps: 350\n",
      "Episode 12: reward: 430.000, steps: 430\n",
      "Episode 13: reward: 278.000, steps: 278\n",
      "Episode 14: reward: 282.000, steps: 282\n",
      "Episode 15: reward: 408.000, steps: 408\n",
      "Episode 16: reward: 296.000, steps: 296\n",
      "Episode 17: reward: 366.000, steps: 366\n",
      "Episode 18: reward: 382.000, steps: 382\n",
      "Episode 19: reward: 361.000, steps: 361\n",
      "Episode 20: reward: 300.000, steps: 300\n",
      "Episode 21: reward: 361.000, steps: 361\n",
      "Episode 22: reward: 446.000, steps: 446\n",
      "Episode 23: reward: 326.000, steps: 326\n",
      "Episode 24: reward: 312.000, steps: 312\n",
      "Episode 25: reward: 319.000, steps: 319\n",
      "Episode 26: reward: 416.000, steps: 416\n",
      "Episode 27: reward: 260.000, steps: 260\n",
      "Episode 28: reward: 409.000, steps: 409\n",
      "Episode 29: reward: 322.000, steps: 322\n",
      "Episode 30: reward: 386.000, steps: 386\n",
      "Episode 31: reward: 377.000, steps: 377\n",
      "Episode 32: reward: 374.000, steps: 374\n",
      "Episode 33: reward: 437.000, steps: 437\n",
      "Episode 34: reward: 396.000, steps: 396\n",
      "Episode 35: reward: 392.000, steps: 392\n",
      "Episode 36: reward: 258.000, steps: 258\n",
      "Episode 37: reward: 250.000, steps: 250\n",
      "Episode 38: reward: 363.000, steps: 363\n",
      "Episode 39: reward: 402.000, steps: 402\n",
      "Episode 40: reward: 404.000, steps: 404\n",
      "Episode 41: reward: 349.000, steps: 349\n",
      "Episode 42: reward: 275.000, steps: 275\n",
      "Episode 43: reward: 310.000, steps: 310\n",
      "Episode 44: reward: 391.000, steps: 391\n",
      "Episode 45: reward: 279.000, steps: 279\n",
      "Episode 46: reward: 479.000, steps: 479\n",
      "Episode 47: reward: 315.000, steps: 315\n",
      "Episode 48: reward: 430.000, steps: 430\n",
      "Episode 49: reward: 233.000, steps: 233\n",
      "Episode 50: reward: 408.000, steps: 408\n",
      "Episode 51: reward: 389.000, steps: 389\n",
      "Episode 52: reward: 500.000, steps: 500\n",
      "Episode 53: reward: 378.000, steps: 378\n",
      "Episode 54: reward: 332.000, steps: 332\n",
      "Episode 55: reward: 336.000, steps: 336\n",
      "Episode 56: reward: 355.000, steps: 355\n",
      "Episode 57: reward: 410.000, steps: 410\n",
      "Episode 58: reward: 392.000, steps: 392\n",
      "Episode 59: reward: 345.000, steps: 345\n",
      "Episode 60: reward: 385.000, steps: 385\n",
      "Episode 61: reward: 381.000, steps: 381\n",
      "Episode 62: reward: 431.000, steps: 431\n",
      "Episode 63: reward: 287.000, steps: 287\n",
      "Episode 64: reward: 306.000, steps: 306\n",
      "Episode 65: reward: 376.000, steps: 376\n",
      "Episode 66: reward: 288.000, steps: 288\n",
      "Episode 67: reward: 258.000, steps: 258\n",
      "Episode 68: reward: 378.000, steps: 378\n",
      "Episode 69: reward: 281.000, steps: 281\n",
      "Episode 70: reward: 355.000, steps: 355\n",
      "Episode 71: reward: 328.000, steps: 328\n",
      "Episode 72: reward: 329.000, steps: 329\n",
      "Episode 73: reward: 378.000, steps: 378\n",
      "Episode 74: reward: 335.000, steps: 335\n",
      "Episode 75: reward: 433.000, steps: 433\n",
      "Episode 76: reward: 304.000, steps: 304\n",
      "Episode 77: reward: 344.000, steps: 344\n",
      "Episode 78: reward: 479.000, steps: 479\n",
      "Episode 79: reward: 380.000, steps: 380\n",
      "Episode 80: reward: 460.000, steps: 460\n",
      "Episode 81: reward: 378.000, steps: 378\n",
      "Episode 82: reward: 368.000, steps: 368\n",
      "Episode 83: reward: 248.000, steps: 248\n",
      "Episode 84: reward: 331.000, steps: 331\n",
      "Episode 85: reward: 430.000, steps: 430\n",
      "Episode 86: reward: 392.000, steps: 392\n",
      "Episode 87: reward: 377.000, steps: 377\n",
      "Episode 88: reward: 346.000, steps: 346\n",
      "Episode 89: reward: 373.000, steps: 373\n",
      "Episode 90: reward: 292.000, steps: 292\n",
      "Episode 91: reward: 313.000, steps: 313\n",
      "Episode 92: reward: 388.000, steps: 388\n",
      "Episode 93: reward: 323.000, steps: 323\n",
      "Episode 94: reward: 420.000, steps: 420\n",
      "Episode 95: reward: 379.000, steps: 379\n",
      "Episode 96: reward: 318.000, steps: 318\n",
      "Episode 97: reward: 233.000, steps: 233\n",
      "Episode 98: reward: 365.000, steps: 365\n",
      "Episode 99: reward: 296.000, steps: 296\n",
      "Episode 100: reward: 343.000, steps: 343\n",
      "357.87\n"
     ]
    }
   ],
   "source": [
    "scores = dqn.test(env, nb_episodes=100, visualize = False)\n",
    "print(np.mean(scores.history['episode_reward']))"
   ]
  },
  {
   "cell_type": "code",
   "execution_count": 14,
   "id": "21d55f05",
   "metadata": {},
   "outputs": [],
   "source": [
    "#_ = dqn.test(env, nb_episodes =5, visualize = True)"
   ]
  },
  {
   "cell_type": "markdown",
   "id": "bad6dc01",
   "metadata": {},
   "source": [
    "# Reloading Agent from Memory"
   ]
  },
  {
   "cell_type": "code",
   "execution_count": 15,
   "id": "cca2812c",
   "metadata": {},
   "outputs": [],
   "source": [
    "dqn.save_weights('dqn_weight.h4f', overwrite = True)"
   ]
  },
  {
   "cell_type": "code",
   "execution_count": 16,
   "id": "771ebe0e",
   "metadata": {},
   "outputs": [],
   "source": [
    "del model\n",
    "del dqn\n",
    "del env"
   ]
  },
  {
   "cell_type": "code",
   "execution_count": 17,
   "id": "50087280",
   "metadata": {},
   "outputs": [],
   "source": [
    "env = gym.make('CartPole-v1')\n",
    "states = env.observation_space.shape[0]\n",
    "actions = env.action_space.n\n",
    "model = build_model(states,actions)\n",
    "dqn = build_agent(model, actions)\n",
    "dqn.compile(Adam(lr=1e-3), metrics=['mae'])"
   ]
  },
  {
   "cell_type": "code",
   "execution_count": 19,
   "id": "d112fecd",
   "metadata": {},
   "outputs": [
    {
     "name": "stdout",
     "output_type": "stream",
     "text": [
      "C:\\Users\\Seedevice\\SanghyunRyu\\RL_tutorial\n"
     ]
    }
   ],
   "source": [
    "!pwd"
   ]
  },
  {
   "cell_type": "code",
   "execution_count": 20,
   "id": "714ffa28",
   "metadata": {},
   "outputs": [],
   "source": [
    "dqn.load_weights('dqn_weight')"
   ]
  },
  {
   "cell_type": "code",
   "execution_count": 21,
   "id": "408e19ac",
   "metadata": {},
   "outputs": [
    {
     "name": "stdout",
     "output_type": "stream",
     "text": [
      "Testing for 5 episodes ...\n",
      "Episode 1: reward: 488.000, steps: 488\n",
      "Episode 2: reward: 354.000, steps: 354\n",
      "Episode 3: reward: 361.000, steps: 361\n",
      "Episode 4: reward: 356.000, steps: 356\n",
      "Episode 5: reward: 245.000, steps: 245\n"
     ]
    }
   ],
   "source": [
    "_ = dqn.test(env, nb_episodes =5, visualize = True)"
   ]
  },
  {
   "cell_type": "code",
   "execution_count": null,
   "id": "52101bd3",
   "metadata": {},
   "outputs": [],
   "source": []
  }
 ],
 "metadata": {
  "kernelspec": {
   "display_name": "Python 3 (ipykernel)",
   "language": "python",
   "name": "python3"
  },
  "language_info": {
   "codemirror_mode": {
    "name": "ipython",
    "version": 3
   },
   "file_extension": ".py",
   "mimetype": "text/x-python",
   "name": "python",
   "nbconvert_exporter": "python",
   "pygments_lexer": "ipython3",
   "version": "3.9.12"
  }
 },
 "nbformat": 4,
 "nbformat_minor": 5
}
